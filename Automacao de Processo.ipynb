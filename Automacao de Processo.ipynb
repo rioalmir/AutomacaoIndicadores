{
 "cells": [
  {
   "cell_type": "markdown",
   "metadata": {},
   "source": [
    "### Passo 1 - Importar Arquivos e Bibliotecas"
   ]
  },
  {
   "cell_type": "code",
   "execution_count": 2,
   "metadata": {},
   "outputs": [],
   "source": [
    "# Importando bibliotecas\n",
    "import pandas as pd\n",
    "import win32com.client as win32\n",
    "import pathlib\n",
    "\n",
    "# Importando bases de dados\n",
    "vendas = pd.read_excel(r'Bases de Dados\\Vendas.xlsx')\n",
    "emails = pd.read_excel(r'Bases de Dados\\Emails.xlsx')\n",
    "lojas = pd.read_csv(r'Bases de Dados\\lojas.csv', encoding= 'latin1', sep=';')\n",
    "#display(lojas)"
   ]
  },
  {
   "cell_type": "markdown",
   "metadata": {},
   "source": [
    "### Passo 2 - Definir Criar uma Tabela para cada Loja e Definir o dia do Indicador"
   ]
  },
  {
   "cell_type": "code",
   "execution_count": 3,
   "metadata": {},
   "outputs": [],
   "source": [
    "# Incluir o nome da loja em vendas\n",
    "\n",
    "vendas = vendas.merge(lojas, on='ID Loja')\n",
    "#display(vendas)"
   ]
  },
  {
   "cell_type": "code",
   "execution_count": 4,
   "metadata": {},
   "outputs": [],
   "source": [
    "dicionario_lojas = {}\n",
    "for loja in lojas['Loja']:\n",
    "    dicionario_lojas[loja] = vendas.loc[vendas['Loja']==loja, :]\n",
    "#display(dicionario_lojas['Norte Shopping'])\n",
    "#display(dicionario_lojas['Salvador Shopping'])"
   ]
  },
  {
   "cell_type": "code",
   "execution_count": 5,
   "metadata": {},
   "outputs": [
    {
     "name": "stdout",
     "output_type": "stream",
     "text": [
      "2019-12-26 00:00:00\n",
      "26/12\n"
     ]
    }
   ],
   "source": [
    "dia_indicador = vendas['Data'].max()\n",
    "print(dia_indicador)\n",
    "print(f'{dia_indicador.day}/{dia_indicador.month}')"
   ]
  },
  {
   "cell_type": "markdown",
   "metadata": {},
   "source": [
    "### Passo 3 - Salvar a planilha na pasta de backup"
   ]
  },
  {
   "cell_type": "code",
   "execution_count": 6,
   "metadata": {},
   "outputs": [],
   "source": [
    "# Identificar se a pasta já existe\n",
    "caminho_backup = pathlib.Path(r'Backup Arquivos Lojas')\n",
    "\n",
    "arquivos_pasta_backup = caminho_backup.iterdir()\n",
    "lista_nomes_backup = [arquivo.name for arquivo in arquivos_pasta_backup]\n",
    "\n",
    "\n",
    "\n",
    "for loja in dicionario_lojas:\n",
    "    if loja not in lista_nomes_backup:\n",
    "        nova_pasta = caminho_backup / loja\n",
    "        nova_pasta.mkdir()\n",
    "\n",
    "    # Salvar dentro da pasta    \n",
    "    nome_arquivo = f'{dia_indicador.month}_{dia_indicador.day}_{loja}.xlsx'\n",
    "    local_arquivo = caminho_backup / loja / nome_arquivo\n",
    "    dicionario_lojas[loja].to_excel(local_arquivo)\n"
   ]
  },
  {
   "cell_type": "markdown",
   "metadata": {},
   "source": [
    "### Passo 4 - Calcular o indicador para 1 loja"
   ]
  },
  {
   "cell_type": "code",
   "execution_count": 7,
   "metadata": {},
   "outputs": [],
   "source": [
    "# Definição de metas\n",
    "meta_faturamento_dia = 1000\n",
    "meta_faturamento_ano = 1650000\n",
    "meta_prod_dia = 4\n",
    "meta_prod_ano = 120\n",
    "meta_ticket_dia = 500\n",
    "meta_ticket_ano = 500"
   ]
  },
  {
   "cell_type": "code",
   "execution_count": 9,
   "metadata": {
    "scrolled": true
   },
   "outputs": [],
   "source": [
    "for loja in dicionario_lojas:\n",
    "\n",
    "    vendas_loja = dicionario_lojas[loja]\n",
    "    vendas_loja_dia = vendas_loja.loc[vendas_loja['Data']== dia_indicador, :]\n",
    "\n",
    "    # Faturamento\n",
    "    faturamento_ano = vendas_loja['Valor Final'].sum()\n",
    "    faturamento_dia = vendas_loja_dia['Valor Final'].sum()\n",
    "\n",
    "    # Diversidade de produtos\n",
    "    qtde_produtos_ano = len(vendas_loja['Produto'].unique())\n",
    "    qtde_produtos_dia = len(vendas_loja_dia['Produto'].unique())\n",
    "\n",
    "    # Ticket médio\n",
    "    valor_venda = vendas_loja.groupby('Código Venda').sum()\n",
    "    ticket_medio_ano = valor_venda['Valor Final'].mean()\n",
    "\n",
    "    valor_venda_dia = vendas_loja_dia.groupby('Código Venda').sum()\n",
    "    ticket_medio_dia = valor_venda_dia['Valor Final'].mean()\n",
    "\n"
   ]
  },
  {
   "cell_type": "markdown",
   "metadata": {},
   "source": [
    "### Passo 5 - Enviar por e-mail para o gerente"
   ]
  },
  {
   "cell_type": "code",
   "execution_count": 15,
   "metadata": {},
   "outputs": [
    {
     "ename": "com_error",
     "evalue": "(-2147467260, 'Operação anulada', None, None)",
     "output_type": "error",
     "traceback": [
      "\u001b[1;31m---------------------------------------------------------------------------\u001b[0m",
      "\u001b[1;31mcom_error\u001b[0m                                 Traceback (most recent call last)",
      "\u001b[1;32mc:\\Users\\rioal\\OneDrive\\Projects\\ProjetosPython\\AutomacaoIndicadores\\Automacao de Processo.ipynb Célula: 13\u001b[0m in \u001b[0;36m<cell line: 4>\u001b[1;34m()\u001b[0m\n\u001b[0;32m      <a href='vscode-notebook-cell:/c%3A/Users/rioal/OneDrive/Projects/ProjetosPython/AutomacaoIndicadores/Automacao%20de%20Processo.ipynb#X25sZmlsZQ%3D%3D?line=0'>1</a>\u001b[0m outlook \u001b[39m=\u001b[39m win32\u001b[39m.\u001b[39mDispatch(\u001b[39m'\u001b[39m\u001b[39moutlook.application\u001b[39m\u001b[39m'\u001b[39m)\n\u001b[0;32m      <a href='vscode-notebook-cell:/c%3A/Users/rioal/OneDrive/Projects/ProjetosPython/AutomacaoIndicadores/Automacao%20de%20Processo.ipynb#X25sZmlsZQ%3D%3D?line=2'>3</a>\u001b[0m nome \u001b[39m=\u001b[39m emails\u001b[39m.\u001b[39mloc[emails[\u001b[39m'\u001b[39m\u001b[39mLoja\u001b[39m\u001b[39m'\u001b[39m]\u001b[39m==\u001b[39mloja,\u001b[39m'\u001b[39m\u001b[39mGerente\u001b[39m\u001b[39m'\u001b[39m]\u001b[39m.\u001b[39mvalues[\u001b[39m0\u001b[39m]\n\u001b[1;32m----> <a href='vscode-notebook-cell:/c%3A/Users/rioal/OneDrive/Projects/ProjetosPython/AutomacaoIndicadores/Automacao%20de%20Processo.ipynb#X25sZmlsZQ%3D%3D?line=3'>4</a>\u001b[0m mail \u001b[39m=\u001b[39m outlook\u001b[39m.\u001b[39;49mCreateItem(\u001b[39m0\u001b[39;49m)\n\u001b[0;32m      <a href='vscode-notebook-cell:/c%3A/Users/rioal/OneDrive/Projects/ProjetosPython/AutomacaoIndicadores/Automacao%20de%20Processo.ipynb#X25sZmlsZQ%3D%3D?line=4'>5</a>\u001b[0m mail\u001b[39m.\u001b[39mTo \u001b[39m=\u001b[39m emails\u001b[39m.\u001b[39mloc[emails[\u001b[39m'\u001b[39m\u001b[39mLoja\u001b[39m\u001b[39m'\u001b[39m]\u001b[39m==\u001b[39mloja,\u001b[39m'\u001b[39m\u001b[39mE-mail\u001b[39m\u001b[39m'\u001b[39m]\u001b[39m.\u001b[39mvalues[\u001b[39m0\u001b[39m]\n\u001b[0;32m      <a href='vscode-notebook-cell:/c%3A/Users/rioal/OneDrive/Projects/ProjetosPython/AutomacaoIndicadores/Automacao%20de%20Processo.ipynb#X25sZmlsZQ%3D%3D?line=5'>6</a>\u001b[0m mail\u001b[39m.\u001b[39mSubject \u001b[39m=\u001b[39m \u001b[39mf\u001b[39m\u001b[39m'\u001b[39m\u001b[39mOne Page Dia \u001b[39m\u001b[39m{\u001b[39;00mdia_indicador\u001b[39m.\u001b[39mday\u001b[39m}\u001b[39;00m\u001b[39m/\u001b[39m\u001b[39m{\u001b[39;00mdia_indicador\u001b[39m.\u001b[39mmonth\u001b[39m}\u001b[39;00m\u001b[39m - Loja \u001b[39m\u001b[39m{\u001b[39;00mloja\u001b[39m}\u001b[39;00m\u001b[39m'\u001b[39m\n",
      "File \u001b[1;32m<COMObject outlook.application>:2\u001b[0m, in \u001b[0;36mCreateItem\u001b[1;34m(self, ItemType)\u001b[0m\n",
      "\u001b[1;31mcom_error\u001b[0m: (-2147467260, 'Operação anulada', None, None)"
     ]
    }
   ],
   "source": [
    "outlook = win32.Dispatch('outlook.application')\n",
    "\n",
    "nome = emails.loc[emails['Loja']==loja,'Gerente'].values[0]\n",
    "mail = outlook.CreateItem(0)\n",
    "mail.To = emails.loc[emails['Loja']==loja,'E-mail'].values[0]\n",
    "mail.Subject = f'One Page Dia {dia_indicador.day}/{dia_indicador.month} - Loja {loja}'\n",
    "mail.Body = 'Texto do E-mail'\n",
    "\n",
    "# Anexos\n",
    "attachment = pathlib.Path.cwd() / caminho_backup / loja / f'{dia_indicador.month}_{dia_indicador.day}_{loja}.xlsx'\n",
    "mail.Attachments.Add(str(attachment))\n",
    "\n",
    "mail.Send()\n",
    "print(f'E-mail da Loja {loja} enviado')"
   ]
  },
  {
   "cell_type": "markdown",
   "metadata": {},
   "source": [
    "### Passo 6 - Automatizar todas as lojas"
   ]
  },
  {
   "cell_type": "markdown",
   "metadata": {},
   "source": [
    "### Passo 7 - Criar ranking para diretoria"
   ]
  },
  {
   "cell_type": "code",
   "execution_count": 16,
   "metadata": {},
   "outputs": [
    {
     "data": {
      "text/html": [
       "<div>\n",
       "<style scoped>\n",
       "    .dataframe tbody tr th:only-of-type {\n",
       "        vertical-align: middle;\n",
       "    }\n",
       "\n",
       "    .dataframe tbody tr th {\n",
       "        vertical-align: top;\n",
       "    }\n",
       "\n",
       "    .dataframe thead th {\n",
       "        text-align: right;\n",
       "    }\n",
       "</style>\n",
       "<table border=\"1\" class=\"dataframe\">\n",
       "  <thead>\n",
       "    <tr style=\"text-align: right;\">\n",
       "      <th></th>\n",
       "      <th>Valor Final</th>\n",
       "    </tr>\n",
       "    <tr>\n",
       "      <th>Loja</th>\n",
       "      <th></th>\n",
       "    </tr>\n",
       "  </thead>\n",
       "  <tbody>\n",
       "    <tr>\n",
       "      <th>Iguatemi Campinas</th>\n",
       "      <td>1762419</td>\n",
       "    </tr>\n",
       "    <tr>\n",
       "      <th>Shopping Vila Velha</th>\n",
       "      <td>1731167</td>\n",
       "    </tr>\n",
       "    <tr>\n",
       "      <th>Bourbon Shopping SP</th>\n",
       "      <td>1726110</td>\n",
       "    </tr>\n",
       "    <tr>\n",
       "      <th>Rio Mar Recife</th>\n",
       "      <td>1722766</td>\n",
       "    </tr>\n",
       "    <tr>\n",
       "      <th>Shopping SP Market</th>\n",
       "      <td>1721763</td>\n",
       "    </tr>\n",
       "    <tr>\n",
       "      <th>Palladium Shopping Curitiba</th>\n",
       "      <td>1721120</td>\n",
       "    </tr>\n",
       "    <tr>\n",
       "      <th>Norte Shopping</th>\n",
       "      <td>1711968</td>\n",
       "    </tr>\n",
       "    <tr>\n",
       "      <th>Ribeirão Shopping</th>\n",
       "      <td>1707122</td>\n",
       "    </tr>\n",
       "    <tr>\n",
       "      <th>Iguatemi Esplanada</th>\n",
       "      <td>1699681</td>\n",
       "    </tr>\n",
       "    <tr>\n",
       "      <th>Rio Mar Shopping Fortaleza</th>\n",
       "      <td>1698430</td>\n",
       "    </tr>\n",
       "    <tr>\n",
       "      <th>Shopping Center Leste Aricanduva</th>\n",
       "      <td>1682870</td>\n",
       "    </tr>\n",
       "    <tr>\n",
       "      <th>Novo Shopping Ribeirão Preto</th>\n",
       "      <td>1678225</td>\n",
       "    </tr>\n",
       "    <tr>\n",
       "      <th>Shopping Iguatemi Fortaleza</th>\n",
       "      <td>1674824</td>\n",
       "    </tr>\n",
       "    <tr>\n",
       "      <th>Center Shopping Uberlândia</th>\n",
       "      <td>1668921</td>\n",
       "    </tr>\n",
       "    <tr>\n",
       "      <th>Shopping União de Osasco</th>\n",
       "      <td>1663770</td>\n",
       "    </tr>\n",
       "    <tr>\n",
       "      <th>Shopping Barra</th>\n",
       "      <td>1653103</td>\n",
       "    </tr>\n",
       "    <tr>\n",
       "      <th>Passei das Águas Shopping</th>\n",
       "      <td>1649014</td>\n",
       "    </tr>\n",
       "    <tr>\n",
       "      <th>Shopping Eldorado</th>\n",
       "      <td>1648111</td>\n",
       "    </tr>\n",
       "    <tr>\n",
       "      <th>Salvador Shopping</th>\n",
       "      <td>1646739</td>\n",
       "    </tr>\n",
       "    <tr>\n",
       "      <th>Shopping Center Interlagos</th>\n",
       "      <td>1640486</td>\n",
       "    </tr>\n",
       "    <tr>\n",
       "      <th>Shopping Ibirapuera</th>\n",
       "      <td>1635060</td>\n",
       "    </tr>\n",
       "    <tr>\n",
       "      <th>Parque Dom Pedro Shopping</th>\n",
       "      <td>1631630</td>\n",
       "    </tr>\n",
       "    <tr>\n",
       "      <th>Shopping Recife</th>\n",
       "      <td>1624879</td>\n",
       "    </tr>\n",
       "    <tr>\n",
       "      <th>Shopping Midway Mall</th>\n",
       "      <td>1590441</td>\n",
       "    </tr>\n",
       "    <tr>\n",
       "      <th>Shopping Morumbi</th>\n",
       "      <td>1586444</td>\n",
       "    </tr>\n",
       "  </tbody>\n",
       "</table>\n",
       "</div>"
      ],
      "text/plain": [
       "                                  Valor Final\n",
       "Loja                                         \n",
       "Iguatemi Campinas                     1762419\n",
       "Shopping Vila Velha                   1731167\n",
       "Bourbon Shopping SP                   1726110\n",
       "Rio Mar Recife                        1722766\n",
       "Shopping SP Market                    1721763\n",
       "Palladium Shopping Curitiba           1721120\n",
       "Norte Shopping                        1711968\n",
       "Ribeirão Shopping                     1707122\n",
       "Iguatemi Esplanada                    1699681\n",
       "Rio Mar Shopping Fortaleza            1698430\n",
       "Shopping Center Leste Aricanduva      1682870\n",
       "Novo Shopping Ribeirão Preto          1678225\n",
       "Shopping Iguatemi Fortaleza           1674824\n",
       "Center Shopping Uberlândia            1668921\n",
       "Shopping União de Osasco              1663770\n",
       "Shopping Barra                        1653103\n",
       "Passei das Águas Shopping             1649014\n",
       "Shopping Eldorado                     1648111\n",
       "Salvador Shopping                     1646739\n",
       "Shopping Center Interlagos            1640486\n",
       "Shopping Ibirapuera                   1635060\n",
       "Parque Dom Pedro Shopping             1631630\n",
       "Shopping Recife                       1624879\n",
       "Shopping Midway Mall                  1590441\n",
       "Shopping Morumbi                      1586444"
      ]
     },
     "metadata": {},
     "output_type": "display_data"
    },
    {
     "data": {
      "text/html": [
       "<div>\n",
       "<style scoped>\n",
       "    .dataframe tbody tr th:only-of-type {\n",
       "        vertical-align: middle;\n",
       "    }\n",
       "\n",
       "    .dataframe tbody tr th {\n",
       "        vertical-align: top;\n",
       "    }\n",
       "\n",
       "    .dataframe thead th {\n",
       "        text-align: right;\n",
       "    }\n",
       "</style>\n",
       "<table border=\"1\" class=\"dataframe\">\n",
       "  <thead>\n",
       "    <tr style=\"text-align: right;\">\n",
       "      <th></th>\n",
       "      <th>Valor Final</th>\n",
       "    </tr>\n",
       "    <tr>\n",
       "      <th>Loja</th>\n",
       "      <th></th>\n",
       "    </tr>\n",
       "  </thead>\n",
       "  <tbody>\n",
       "    <tr>\n",
       "      <th>Salvador Shopping</th>\n",
       "      <td>3950</td>\n",
       "    </tr>\n",
       "    <tr>\n",
       "      <th>Novo Shopping Ribeirão Preto</th>\n",
       "      <td>3400</td>\n",
       "    </tr>\n",
       "    <tr>\n",
       "      <th>Center Shopping Uberlândia</th>\n",
       "      <td>2651</td>\n",
       "    </tr>\n",
       "    <tr>\n",
       "      <th>Shopping Eldorado</th>\n",
       "      <td>2391</td>\n",
       "    </tr>\n",
       "    <tr>\n",
       "      <th>Shopping Center Interlagos</th>\n",
       "      <td>1582</td>\n",
       "    </tr>\n",
       "    <tr>\n",
       "      <th>Shopping Recife</th>\n",
       "      <td>1366</td>\n",
       "    </tr>\n",
       "    <tr>\n",
       "      <th>Norte Shopping</th>\n",
       "      <td>1259</td>\n",
       "    </tr>\n",
       "    <tr>\n",
       "      <th>Shopping União de Osasco</th>\n",
       "      <td>1207</td>\n",
       "    </tr>\n",
       "    <tr>\n",
       "      <th>Shopping Vila Velha</th>\n",
       "      <td>937</td>\n",
       "    </tr>\n",
       "    <tr>\n",
       "      <th>Bourbon Shopping SP</th>\n",
       "      <td>676</td>\n",
       "    </tr>\n",
       "    <tr>\n",
       "      <th>Ribeirão Shopping</th>\n",
       "      <td>650</td>\n",
       "    </tr>\n",
       "    <tr>\n",
       "      <th>Shopping Center Leste Aricanduva</th>\n",
       "      <td>485</td>\n",
       "    </tr>\n",
       "    <tr>\n",
       "      <th>Palladium Shopping Curitiba</th>\n",
       "      <td>381</td>\n",
       "    </tr>\n",
       "    <tr>\n",
       "      <th>Rio Mar Shopping Fortaleza</th>\n",
       "      <td>368</td>\n",
       "    </tr>\n",
       "    <tr>\n",
       "      <th>Shopping Midway Mall</th>\n",
       "      <td>170</td>\n",
       "    </tr>\n",
       "    <tr>\n",
       "      <th>Shopping Ibirapuera</th>\n",
       "      <td>118</td>\n",
       "    </tr>\n",
       "  </tbody>\n",
       "</table>\n",
       "</div>"
      ],
      "text/plain": [
       "                                  Valor Final\n",
       "Loja                                         \n",
       "Salvador Shopping                        3950\n",
       "Novo Shopping Ribeirão Preto             3400\n",
       "Center Shopping Uberlândia               2651\n",
       "Shopping Eldorado                        2391\n",
       "Shopping Center Interlagos               1582\n",
       "Shopping Recife                          1366\n",
       "Norte Shopping                           1259\n",
       "Shopping União de Osasco                 1207\n",
       "Shopping Vila Velha                       937\n",
       "Bourbon Shopping SP                       676\n",
       "Ribeirão Shopping                         650\n",
       "Shopping Center Leste Aricanduva          485\n",
       "Palladium Shopping Curitiba               381\n",
       "Rio Mar Shopping Fortaleza                368\n",
       "Shopping Midway Mall                      170\n",
       "Shopping Ibirapuera                       118"
      ]
     },
     "metadata": {},
     "output_type": "display_data"
    }
   ],
   "source": [
    "faturamento_lojas = vendas.groupby('Loja')[['Loja', 'Valor Final']].sum()\n",
    "faturamento_lojas_ano = faturamento_lojas.sort_values(by= 'Valor Final', ascending= False)\n",
    "display(faturamento_lojas_ano)\n",
    "\n",
    "vendas_dia = vendas.loc[vendas['Data']== dia_indicador, :]\n",
    "faturamento_lojas_dia = vendas_dia.groupby('Loja')[['Loja', 'Valor Final']].sum()\n",
    "faturamento_lojas_dia = faturamento_lojas_dia.sort_values(by= 'Valor Final', ascending= False)\n",
    "display(faturamento_lojas_dia)"
   ]
  },
  {
   "cell_type": "markdown",
   "metadata": {},
   "source": [
    "### Passo 8 - Enviar e-mail para diretoria"
   ]
  },
  {
   "cell_type": "code",
   "execution_count": null,
   "metadata": {},
   "outputs": [],
   "source": []
  }
 ],
 "metadata": {
  "kernelspec": {
   "display_name": "Python 3.10.4 ('automacao')",
   "language": "python",
   "name": "python3"
  },
  "language_info": {
   "codemirror_mode": {
    "name": "ipython",
    "version": 3
   },
   "file_extension": ".py",
   "mimetype": "text/x-python",
   "name": "python",
   "nbconvert_exporter": "python",
   "pygments_lexer": "ipython3",
   "version": "3.10.4"
  },
  "vscode": {
   "interpreter": {
    "hash": "b2748734849651702a9af5b7dce5eae976a87a142250114bc0166c0099bf41e2"
   }
  }
 },
 "nbformat": 4,
 "nbformat_minor": 4
}
