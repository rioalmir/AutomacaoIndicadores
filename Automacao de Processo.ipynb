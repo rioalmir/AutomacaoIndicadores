{
 "cells": [
  {
   "cell_type": "markdown",
   "metadata": {},
   "source": [
    "### Passo 1 - Importar Arquivos e Bibliotecas"
   ]
  },
  {
   "cell_type": "code",
   "execution_count": 7,
   "metadata": {},
   "outputs": [],
   "source": [
    "# Importando bibliotecas\n",
    "import pandas as pd\n",
    "import win32com.client as win32\n",
    "import pathlib\n",
    "\n",
    "# Importando bases de dados\n",
    "vendas = pd.read_excel(r'Bases de Dados\\Vendas.xlsx')\n",
    "emails = pd.read_excel(r'Bases de Dados\\Emails.xlsx')\n",
    "lojas = pd.read_csv(r'Bases de Dados\\lojas.csv', encoding= 'latin1', sep=';')\n",
    "#display(lojas)"
   ]
  },
  {
   "cell_type": "markdown",
   "metadata": {},
   "source": [
    "### Passo 2 - Definir Criar uma Tabela para cada Loja e Definir o dia do Indicador"
   ]
  },
  {
   "cell_type": "code",
   "execution_count": 8,
   "metadata": {},
   "outputs": [],
   "source": [
    "# Incluir o nome da loja em vendas\n",
    "\n",
    "vendas = vendas.merge(lojas, on='ID Loja')\n",
    "#display(vendas)"
   ]
  },
  {
   "cell_type": "code",
   "execution_count": 9,
   "metadata": {},
   "outputs": [],
   "source": [
    "dicionario_lojas = {}\n",
    "for loja in lojas['Loja']:\n",
    "    dicionario_lojas[loja] = vendas.loc[vendas['Loja']==loja, :]\n",
    "#display(dicionario_lojas['Norte Shopping'])\n",
    "#display(dicionario_lojas['Salvador Shopping'])"
   ]
  },
  {
   "cell_type": "code",
   "execution_count": 10,
   "metadata": {},
   "outputs": [
    {
     "name": "stdout",
     "output_type": "stream",
     "text": [
      "2019-12-26 00:00:00\n",
      "26/12\n"
     ]
    }
   ],
   "source": [
    "dia_indicador = vendas['Data'].max()\n",
    "print(dia_indicador)\n",
    "print(f'{dia_indicador.day}/{dia_indicador.month}')"
   ]
  },
  {
   "cell_type": "markdown",
   "metadata": {},
   "source": [
    "### Passo 3 - Salvar a planilha na pasta de backup"
   ]
  },
  {
   "cell_type": "code",
   "execution_count": 11,
   "metadata": {},
   "outputs": [],
   "source": [
    "# Identificar se a pasta já existe\n",
    "caminho_backup = pathlib.Path(r'Backup Arquivos Lojas')\n",
    "\n",
    "arquivos_pasta_backup = caminho_backup.iterdir()\n",
    "lista_nomes_backup = [arquivo.name for arquivo in arquivos_pasta_backup]\n",
    "\n",
    "\n",
    "\n",
    "for loja in dicionario_lojas:\n",
    "    if loja not in lista_nomes_backup:\n",
    "        nova_pasta = caminho_backup / loja\n",
    "        nova_pasta.mkdir()\n",
    "\n",
    "    # Salvar dentro da pasta    \n",
    "    nome_arquivo = f'{dia_indicador.month}_{dia_indicador.day}_{loja}.xlsx'\n",
    "    local_arquivo = caminho_backup / loja / nome_arquivo\n",
    "    dicionario_lojas[loja].to_excel(local_arquivo)\n"
   ]
  },
  {
   "cell_type": "markdown",
   "metadata": {},
   "source": [
    "### Passo 4 - Calcular o indicador para 1 loja"
   ]
  },
  {
   "cell_type": "code",
   "execution_count": null,
   "metadata": {},
   "outputs": [],
   "source": [
    "# Definição de metas\n",
    "meta_faturamento_dia = 1000\n",
    "meta_faturamento_ano = 1650000\n",
    "meta_prod_dia = 4\n",
    "meta_prod_ano = 120\n",
    "meta_ticket_dia = 500\n",
    "meta_ticket_ano = 500"
   ]
  },
  {
   "cell_type": "code",
   "execution_count": 12,
   "metadata": {
    "scrolled": true
   },
   "outputs": [],
   "source": [
    "for loja in dicionario_lojas:\n",
    "\n",
    "vendas_loja = dicionario_lojas[loja]\n",
    "vendas_loja_dia = vendas_loja.loc[vendas_loja['Data']== dia_indicador, :]\n",
    "\n",
    "# Faturamento\n",
    "faturamento_ano = vendas_loja['Valor Final'].sum()\n",
    "faturamento_dia = vendas_loja_dia['Valor Final'].sum()\n",
    "\n",
    "# Diversidade de produtos\n",
    "qtde_produtos_ano = len(vendas_loja['Produto'].unique())\n",
    "qtde_produtos_dia = len(vendas_loja_dia['Produto'].unique())\n",
    "\n",
    "# Ticket médio\n",
    "valor_venda = vendas_loja.groupby('Código Venda').sum()\n",
    "ticket_medio_ano = valor_venda['Valor Final'].mean()\n",
    "\n",
    "valor_venda_dia = vendas_loja_dia.groupby('Código Venda').sum()\n",
    "ticket_medio_dia = valor_venda_dia['Valor Final'].mean()\n",
    "\n"
   ]
  },
  {
   "cell_type": "markdown",
   "metadata": {},
   "source": [
    "### Passo 5 - Enviar por e-mail para o gerente"
   ]
  },
  {
   "cell_type": "code",
   "execution_count": 15,
   "metadata": {},
   "outputs": [
    {
     "ename": "com_error",
     "evalue": "(-2147467260, 'Operação anulada', None, None)",
     "output_type": "error",
     "traceback": [
      "\u001b[1;31m---------------------------------------------------------------------------\u001b[0m",
      "\u001b[1;31mcom_error\u001b[0m                                 Traceback (most recent call last)",
      "\u001b[1;32mc:\\Users\\rioal\\OneDrive\\Projects\\ProjetosPython\\AutomacaoIndicadores\\Automacao de Processo.ipynb Célula: 13\u001b[0m in \u001b[0;36m<cell line: 4>\u001b[1;34m()\u001b[0m\n\u001b[0;32m      <a href='vscode-notebook-cell:/c%3A/Users/rioal/OneDrive/Projects/ProjetosPython/AutomacaoIndicadores/Automacao%20de%20Processo.ipynb#X25sZmlsZQ%3D%3D?line=0'>1</a>\u001b[0m outlook \u001b[39m=\u001b[39m win32\u001b[39m.\u001b[39mDispatch(\u001b[39m'\u001b[39m\u001b[39moutlook.application\u001b[39m\u001b[39m'\u001b[39m)\n\u001b[0;32m      <a href='vscode-notebook-cell:/c%3A/Users/rioal/OneDrive/Projects/ProjetosPython/AutomacaoIndicadores/Automacao%20de%20Processo.ipynb#X25sZmlsZQ%3D%3D?line=2'>3</a>\u001b[0m nome \u001b[39m=\u001b[39m emails\u001b[39m.\u001b[39mloc[emails[\u001b[39m'\u001b[39m\u001b[39mLoja\u001b[39m\u001b[39m'\u001b[39m]\u001b[39m==\u001b[39mloja,\u001b[39m'\u001b[39m\u001b[39mGerente\u001b[39m\u001b[39m'\u001b[39m]\u001b[39m.\u001b[39mvalues[\u001b[39m0\u001b[39m]\n\u001b[1;32m----> <a href='vscode-notebook-cell:/c%3A/Users/rioal/OneDrive/Projects/ProjetosPython/AutomacaoIndicadores/Automacao%20de%20Processo.ipynb#X25sZmlsZQ%3D%3D?line=3'>4</a>\u001b[0m mail \u001b[39m=\u001b[39m outlook\u001b[39m.\u001b[39;49mCreateItem(\u001b[39m0\u001b[39;49m)\n\u001b[0;32m      <a href='vscode-notebook-cell:/c%3A/Users/rioal/OneDrive/Projects/ProjetosPython/AutomacaoIndicadores/Automacao%20de%20Processo.ipynb#X25sZmlsZQ%3D%3D?line=4'>5</a>\u001b[0m mail\u001b[39m.\u001b[39mTo \u001b[39m=\u001b[39m emails\u001b[39m.\u001b[39mloc[emails[\u001b[39m'\u001b[39m\u001b[39mLoja\u001b[39m\u001b[39m'\u001b[39m]\u001b[39m==\u001b[39mloja,\u001b[39m'\u001b[39m\u001b[39mE-mail\u001b[39m\u001b[39m'\u001b[39m]\u001b[39m.\u001b[39mvalues[\u001b[39m0\u001b[39m]\n\u001b[0;32m      <a href='vscode-notebook-cell:/c%3A/Users/rioal/OneDrive/Projects/ProjetosPython/AutomacaoIndicadores/Automacao%20de%20Processo.ipynb#X25sZmlsZQ%3D%3D?line=5'>6</a>\u001b[0m mail\u001b[39m.\u001b[39mSubject \u001b[39m=\u001b[39m \u001b[39mf\u001b[39m\u001b[39m'\u001b[39m\u001b[39mOne Page Dia \u001b[39m\u001b[39m{\u001b[39;00mdia_indicador\u001b[39m.\u001b[39mday\u001b[39m}\u001b[39;00m\u001b[39m/\u001b[39m\u001b[39m{\u001b[39;00mdia_indicador\u001b[39m.\u001b[39mmonth\u001b[39m}\u001b[39;00m\u001b[39m - Loja \u001b[39m\u001b[39m{\u001b[39;00mloja\u001b[39m}\u001b[39;00m\u001b[39m'\u001b[39m\n",
      "File \u001b[1;32m<COMObject outlook.application>:2\u001b[0m, in \u001b[0;36mCreateItem\u001b[1;34m(self, ItemType)\u001b[0m\n",
      "\u001b[1;31mcom_error\u001b[0m: (-2147467260, 'Operação anulada', None, None)"
     ]
    }
   ],
   "source": [
    "outlook = win32.Dispatch('outlook.application')\n",
    "\n",
    "nome = emails.loc[emails['Loja']==loja,'Gerente'].values[0]\n",
    "mail = outlook.CreateItem(0)\n",
    "mail.To = emails.loc[emails['Loja']==loja,'E-mail'].values[0]\n",
    "mail.Subject = f'One Page Dia {dia_indicador.day}/{dia_indicador.month} - Loja {loja}'\n",
    "mail.Body = 'Texto do E-mail'\n",
    "\n",
    "# Anexos\n",
    "attachment = pathlib.Path.cwd() / caminho_backup / loja / f'{dia_indicador.month}_{dia_indicador.day}_{loja}.xlsx'\n",
    "mail.Attachments.Add(str(attachment))\n",
    "\n",
    "mail.Send()\n",
    "print(f'E-mail da Loja {loja} enviado')"
   ]
  },
  {
   "cell_type": "markdown",
   "metadata": {},
   "source": [
    "### Passo 6 - Automatizar todas as lojas"
   ]
  },
  {
   "cell_type": "markdown",
   "metadata": {},
   "source": [
    "### Passo 7 - Criar ranking para diretoria"
   ]
  },
  {
   "cell_type": "code",
   "execution_count": null,
   "metadata": {},
   "outputs": [],
   "source": []
  },
  {
   "cell_type": "markdown",
   "metadata": {},
   "source": [
    "### Passo 8 - Enviar e-mail para diretoria"
   ]
  },
  {
   "cell_type": "code",
   "execution_count": null,
   "metadata": {},
   "outputs": [],
   "source": []
  }
 ],
 "metadata": {
  "kernelspec": {
   "display_name": "Python 3.10.4 ('automacao')",
   "language": "python",
   "name": "python3"
  },
  "language_info": {
   "codemirror_mode": {
    "name": "ipython",
    "version": 3
   },
   "file_extension": ".py",
   "mimetype": "text/x-python",
   "name": "python",
   "nbconvert_exporter": "python",
   "pygments_lexer": "ipython3",
   "version": "3.10.4"
  },
  "vscode": {
   "interpreter": {
    "hash": "b2748734849651702a9af5b7dce5eae976a87a142250114bc0166c0099bf41e2"
   }
  }
 },
 "nbformat": 4,
 "nbformat_minor": 4
}
